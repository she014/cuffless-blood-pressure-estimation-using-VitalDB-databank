{
 "cells": [
  {
   "cell_type": "markdown",
   "metadata": {},
   "source": [
    "## Loading library and data"
   ]
  },
  {
   "cell_type": "markdown",
   "metadata": {},
   "source": [
    "To use the VitalDB open dataset, the pandas library is required.\\\n",
    "At first, we need to load 3 endpoints of the VitalDB open dataset."
   ]
  },
  {
   "cell_type": "code",
   "execution_count": 1,
   "metadata": {},
   "outputs": [],
   "source": [
    "import pandas as pd\n",
    "df_cases = pd.read_csv(\"https://api.vitaldb.net/cases\")  # clinical information\n",
    "df_trks = pd.read_csv(\"https://api.vitaldb.net/trks\")  # track list\n",
    "df_labs = pd.read_csv('https://api.vitaldb.net/labs')  # laboratory results"
   ]
  },
  {
   "cell_type": "markdown",
   "metadata": {},
   "source": [
    "### Using clinical information data\n",
    "Let's visually check the cases and variables of the VitalDB dataset."
   ]
  },
  {
   "cell_type": "code",
   "execution_count": 2,
   "metadata": {},
   "outputs": [
    {
     "data": {
      "text/html": [
       "<div>\n",
       "<style scoped>\n",
       "    .dataframe tbody tr th:only-of-type {\n",
       "        vertical-align: middle;\n",
       "    }\n",
       "\n",
       "    .dataframe tbody tr th {\n",
       "        vertical-align: top;\n",
       "    }\n",
       "\n",
       "    .dataframe thead th {\n",
       "        text-align: right;\n",
       "    }\n",
       "</style>\n",
       "<table border=\"1\" class=\"dataframe\">\n",
       "  <thead>\n",
       "    <tr style=\"text-align: right;\">\n",
       "      <th></th>\n",
       "      <th>caseid</th>\n",
       "      <th>subjectid</th>\n",
       "      <th>casestart</th>\n",
       "      <th>caseend</th>\n",
       "      <th>anestart</th>\n",
       "      <th>aneend</th>\n",
       "      <th>opstart</th>\n",
       "      <th>opend</th>\n",
       "      <th>adm</th>\n",
       "      <th>dis</th>\n",
       "      <th>...</th>\n",
       "      <th>intraop_colloid</th>\n",
       "      <th>intraop_ppf</th>\n",
       "      <th>intraop_mdz</th>\n",
       "      <th>intraop_ftn</th>\n",
       "      <th>intraop_rocu</th>\n",
       "      <th>intraop_vecu</th>\n",
       "      <th>intraop_eph</th>\n",
       "      <th>intraop_phe</th>\n",
       "      <th>intraop_epi</th>\n",
       "      <th>intraop_ca</th>\n",
       "    </tr>\n",
       "  </thead>\n",
       "  <tbody>\n",
       "    <tr>\n",
       "      <th>0</th>\n",
       "      <td>1</td>\n",
       "      <td>5955</td>\n",
       "      <td>0</td>\n",
       "      <td>11520</td>\n",
       "      <td>-540</td>\n",
       "      <td>10860</td>\n",
       "      <td>-540</td>\n",
       "      <td>10380</td>\n",
       "      <td>-236220</td>\n",
       "      <td>627780</td>\n",
       "      <td>...</td>\n",
       "      <td>0</td>\n",
       "      <td>120</td>\n",
       "      <td>0.0</td>\n",
       "      <td>100</td>\n",
       "      <td>70</td>\n",
       "      <td>0</td>\n",
       "      <td>10</td>\n",
       "      <td>0</td>\n",
       "      <td>0</td>\n",
       "      <td>0</td>\n",
       "    </tr>\n",
       "    <tr>\n",
       "      <th>1</th>\n",
       "      <td>2</td>\n",
       "      <td>2487</td>\n",
       "      <td>0</td>\n",
       "      <td>15720</td>\n",
       "      <td>-1020</td>\n",
       "      <td>14940</td>\n",
       "      <td>1740</td>\n",
       "      <td>14640</td>\n",
       "      <td>-221160</td>\n",
       "      <td>1506840</td>\n",
       "      <td>...</td>\n",
       "      <td>0</td>\n",
       "      <td>150</td>\n",
       "      <td>0.0</td>\n",
       "      <td>0</td>\n",
       "      <td>100</td>\n",
       "      <td>0</td>\n",
       "      <td>20</td>\n",
       "      <td>0</td>\n",
       "      <td>0</td>\n",
       "      <td>0</td>\n",
       "    </tr>\n",
       "    <tr>\n",
       "      <th>2</th>\n",
       "      <td>3</td>\n",
       "      <td>2861</td>\n",
       "      <td>0</td>\n",
       "      <td>4440</td>\n",
       "      <td>-540</td>\n",
       "      <td>4260</td>\n",
       "      <td>-540</td>\n",
       "      <td>3960</td>\n",
       "      <td>-218640</td>\n",
       "      <td>40560</td>\n",
       "      <td>...</td>\n",
       "      <td>0</td>\n",
       "      <td>0</td>\n",
       "      <td>0.0</td>\n",
       "      <td>0</td>\n",
       "      <td>50</td>\n",
       "      <td>0</td>\n",
       "      <td>0</td>\n",
       "      <td>0</td>\n",
       "      <td>0</td>\n",
       "      <td>0</td>\n",
       "    </tr>\n",
       "    <tr>\n",
       "      <th>3</th>\n",
       "      <td>4</td>\n",
       "      <td>1903</td>\n",
       "      <td>0</td>\n",
       "      <td>21000</td>\n",
       "      <td>-720</td>\n",
       "      <td>20280</td>\n",
       "      <td>2580</td>\n",
       "      <td>18180</td>\n",
       "      <td>-201120</td>\n",
       "      <td>576480</td>\n",
       "      <td>...</td>\n",
       "      <td>0</td>\n",
       "      <td>80</td>\n",
       "      <td>0.0</td>\n",
       "      <td>100</td>\n",
       "      <td>100</td>\n",
       "      <td>0</td>\n",
       "      <td>50</td>\n",
       "      <td>0</td>\n",
       "      <td>0</td>\n",
       "      <td>0</td>\n",
       "    </tr>\n",
       "    <tr>\n",
       "      <th>4</th>\n",
       "      <td>5</td>\n",
       "      <td>4416</td>\n",
       "      <td>0</td>\n",
       "      <td>21540</td>\n",
       "      <td>-960</td>\n",
       "      <td>22440</td>\n",
       "      <td>2640</td>\n",
       "      <td>21840</td>\n",
       "      <td>-67560</td>\n",
       "      <td>3734040</td>\n",
       "      <td>...</td>\n",
       "      <td>0</td>\n",
       "      <td>0</td>\n",
       "      <td>0.0</td>\n",
       "      <td>0</td>\n",
       "      <td>160</td>\n",
       "      <td>0</td>\n",
       "      <td>10</td>\n",
       "      <td>900</td>\n",
       "      <td>0</td>\n",
       "      <td>2100</td>\n",
       "    </tr>\n",
       "    <tr>\n",
       "      <th>...</th>\n",
       "      <td>...</td>\n",
       "      <td>...</td>\n",
       "      <td>...</td>\n",
       "      <td>...</td>\n",
       "      <td>...</td>\n",
       "      <td>...</td>\n",
       "      <td>...</td>\n",
       "      <td>...</td>\n",
       "      <td>...</td>\n",
       "      <td>...</td>\n",
       "      <td>...</td>\n",
       "      <td>...</td>\n",
       "      <td>...</td>\n",
       "      <td>...</td>\n",
       "      <td>...</td>\n",
       "      <td>...</td>\n",
       "      <td>...</td>\n",
       "      <td>...</td>\n",
       "      <td>...</td>\n",
       "      <td>...</td>\n",
       "      <td>...</td>\n",
       "    </tr>\n",
       "    <tr>\n",
       "      <th>6383</th>\n",
       "      <td>6384</td>\n",
       "      <td>5583</td>\n",
       "      <td>0</td>\n",
       "      <td>15240</td>\n",
       "      <td>-240</td>\n",
       "      <td>15660</td>\n",
       "      <td>-240</td>\n",
       "      <td>15060</td>\n",
       "      <td>-215340</td>\n",
       "      <td>648660</td>\n",
       "      <td>...</td>\n",
       "      <td>0</td>\n",
       "      <td>150</td>\n",
       "      <td>0.0</td>\n",
       "      <td>0</td>\n",
       "      <td>90</td>\n",
       "      <td>0</td>\n",
       "      <td>20</td>\n",
       "      <td>0</td>\n",
       "      <td>0</td>\n",
       "      <td>0</td>\n",
       "    </tr>\n",
       "    <tr>\n",
       "      <th>6384</th>\n",
       "      <td>6385</td>\n",
       "      <td>2278</td>\n",
       "      <td>0</td>\n",
       "      <td>20640</td>\n",
       "      <td>-540</td>\n",
       "      <td>21000</td>\n",
       "      <td>-540</td>\n",
       "      <td>19800</td>\n",
       "      <td>-225600</td>\n",
       "      <td>1675200</td>\n",
       "      <td>...</td>\n",
       "      <td>0</td>\n",
       "      <td>100</td>\n",
       "      <td>0.0</td>\n",
       "      <td>0</td>\n",
       "      <td>100</td>\n",
       "      <td>0</td>\n",
       "      <td>25</td>\n",
       "      <td>30</td>\n",
       "      <td>0</td>\n",
       "      <td>300</td>\n",
       "    </tr>\n",
       "    <tr>\n",
       "      <th>6385</th>\n",
       "      <td>6386</td>\n",
       "      <td>4045</td>\n",
       "      <td>0</td>\n",
       "      <td>19440</td>\n",
       "      <td>-660</td>\n",
       "      <td>19140</td>\n",
       "      <td>3540</td>\n",
       "      <td>18540</td>\n",
       "      <td>-200460</td>\n",
       "      <td>836340</td>\n",
       "      <td>...</td>\n",
       "      <td>0</td>\n",
       "      <td>70</td>\n",
       "      <td>0.0</td>\n",
       "      <td>0</td>\n",
       "      <td>130</td>\n",
       "      <td>0</td>\n",
       "      <td>10</td>\n",
       "      <td>0</td>\n",
       "      <td>0</td>\n",
       "      <td>0</td>\n",
       "    </tr>\n",
       "    <tr>\n",
       "      <th>6386</th>\n",
       "      <td>6387</td>\n",
       "      <td>5230</td>\n",
       "      <td>0</td>\n",
       "      <td>12000</td>\n",
       "      <td>-540</td>\n",
       "      <td>12840</td>\n",
       "      <td>1740</td>\n",
       "      <td>12240</td>\n",
       "      <td>-227760</td>\n",
       "      <td>377040</td>\n",
       "      <td>...</td>\n",
       "      <td>0</td>\n",
       "      <td>120</td>\n",
       "      <td>0.0</td>\n",
       "      <td>0</td>\n",
       "      <td>50</td>\n",
       "      <td>0</td>\n",
       "      <td>0</td>\n",
       "      <td>0</td>\n",
       "      <td>0</td>\n",
       "      <td>0</td>\n",
       "    </tr>\n",
       "    <tr>\n",
       "      <th>6387</th>\n",
       "      <td>6388</td>\n",
       "      <td>1306</td>\n",
       "      <td>0</td>\n",
       "      <td>10260</td>\n",
       "      <td>-60</td>\n",
       "      <td>10140</td>\n",
       "      <td>-60</td>\n",
       "      <td>9540</td>\n",
       "      <td>-312060</td>\n",
       "      <td>379140</td>\n",
       "      <td>...</td>\n",
       "      <td>500</td>\n",
       "      <td>120</td>\n",
       "      <td>0.0</td>\n",
       "      <td>0</td>\n",
       "      <td>90</td>\n",
       "      <td>0</td>\n",
       "      <td>20</td>\n",
       "      <td>0</td>\n",
       "      <td>0</td>\n",
       "      <td>0</td>\n",
       "    </tr>\n",
       "  </tbody>\n",
       "</table>\n",
       "<p>6388 rows × 74 columns</p>\n",
       "</div>"
      ],
      "text/plain": [
       "      caseid  subjectid  casestart  caseend  anestart  aneend  opstart  opend  \\\n",
       "0          1       5955          0    11520      -540   10860     -540  10380   \n",
       "1          2       2487          0    15720     -1020   14940     1740  14640   \n",
       "2          3       2861          0     4440      -540    4260     -540   3960   \n",
       "3          4       1903          0    21000      -720   20280     2580  18180   \n",
       "4          5       4416          0    21540      -960   22440     2640  21840   \n",
       "...      ...        ...        ...      ...       ...     ...      ...    ...   \n",
       "6383    6384       5583          0    15240      -240   15660     -240  15060   \n",
       "6384    6385       2278          0    20640      -540   21000     -540  19800   \n",
       "6385    6386       4045          0    19440      -660   19140     3540  18540   \n",
       "6386    6387       5230          0    12000      -540   12840     1740  12240   \n",
       "6387    6388       1306          0    10260       -60   10140      -60   9540   \n",
       "\n",
       "         adm      dis  ...  intraop_colloid  intraop_ppf  intraop_mdz  \\\n",
       "0    -236220   627780  ...                0          120          0.0   \n",
       "1    -221160  1506840  ...                0          150          0.0   \n",
       "2    -218640    40560  ...                0            0          0.0   \n",
       "3    -201120   576480  ...                0           80          0.0   \n",
       "4     -67560  3734040  ...                0            0          0.0   \n",
       "...      ...      ...  ...              ...          ...          ...   \n",
       "6383 -215340   648660  ...                0          150          0.0   \n",
       "6384 -225600  1675200  ...                0          100          0.0   \n",
       "6385 -200460   836340  ...                0           70          0.0   \n",
       "6386 -227760   377040  ...                0          120          0.0   \n",
       "6387 -312060   379140  ...              500          120          0.0   \n",
       "\n",
       "     intraop_ftn  intraop_rocu  intraop_vecu  intraop_eph  intraop_phe  \\\n",
       "0            100            70             0           10            0   \n",
       "1              0           100             0           20            0   \n",
       "2              0            50             0            0            0   \n",
       "3            100           100             0           50            0   \n",
       "4              0           160             0           10          900   \n",
       "...          ...           ...           ...          ...          ...   \n",
       "6383           0            90             0           20            0   \n",
       "6384           0           100             0           25           30   \n",
       "6385           0           130             0           10            0   \n",
       "6386           0            50             0            0            0   \n",
       "6387           0            90             0           20            0   \n",
       "\n",
       "      intraop_epi intraop_ca  \n",
       "0               0          0  \n",
       "1               0          0  \n",
       "2               0          0  \n",
       "3               0          0  \n",
       "4               0       2100  \n",
       "...           ...        ...  \n",
       "6383            0          0  \n",
       "6384            0        300  \n",
       "6385            0          0  \n",
       "6386            0          0  \n",
       "6387            0          0  \n",
       "\n",
       "[6388 rows x 74 columns]"
      ]
     },
     "execution_count": 2,
     "metadata": {},
     "output_type": "execute_result"
    }
   ],
   "source": [
    "df_cases"
   ]
  },
  {
   "cell_type": "markdown",
   "metadata": {},
   "source": [
    "### Using track list data"
   ]
  },
  {
   "cell_type": "code",
   "execution_count": 3,
   "metadata": {},
   "outputs": [
    {
     "data": {
      "text/html": [
       "<div>\n",
       "<style scoped>\n",
       "    .dataframe tbody tr th:only-of-type {\n",
       "        vertical-align: middle;\n",
       "    }\n",
       "\n",
       "    .dataframe tbody tr th {\n",
       "        vertical-align: top;\n",
       "    }\n",
       "\n",
       "    .dataframe thead th {\n",
       "        text-align: right;\n",
       "    }\n",
       "</style>\n",
       "<table border=\"1\" class=\"dataframe\">\n",
       "  <thead>\n",
       "    <tr style=\"text-align: right;\">\n",
       "      <th></th>\n",
       "      <th>caseid</th>\n",
       "      <th>tname</th>\n",
       "      <th>tid</th>\n",
       "    </tr>\n",
       "  </thead>\n",
       "  <tbody>\n",
       "    <tr>\n",
       "      <th>0</th>\n",
       "      <td>1</td>\n",
       "      <td>BIS/BIS</td>\n",
       "      <td>fd869e25ba82a66cc95b38ed47110bf4f14bb368</td>\n",
       "    </tr>\n",
       "    <tr>\n",
       "      <th>1</th>\n",
       "      <td>1</td>\n",
       "      <td>BIS/EEG1_WAV</td>\n",
       "      <td>0aa685df768489a18a5e9f53af0d83bf60890c73</td>\n",
       "    </tr>\n",
       "    <tr>\n",
       "      <th>2</th>\n",
       "      <td>1</td>\n",
       "      <td>BIS/EEG2_WAV</td>\n",
       "      <td>ad13b2c39b19193c8ae4a2de4f8315f18d61a57e</td>\n",
       "    </tr>\n",
       "    <tr>\n",
       "      <th>3</th>\n",
       "      <td>1</td>\n",
       "      <td>BIS/EMG</td>\n",
       "      <td>2525603efe18d982764dbca457affe7a45e766a9</td>\n",
       "    </tr>\n",
       "    <tr>\n",
       "      <th>4</th>\n",
       "      <td>1</td>\n",
       "      <td>BIS/SEF</td>\n",
       "      <td>1c91aec859304840dec75acf4a35da78be0e8ef0</td>\n",
       "    </tr>\n",
       "    <tr>\n",
       "      <th>...</th>\n",
       "      <td>...</td>\n",
       "      <td>...</td>\n",
       "      <td>...</td>\n",
       "    </tr>\n",
       "    <tr>\n",
       "      <th>486444</th>\n",
       "      <td>6388</td>\n",
       "      <td>Solar8000/VENT_PIP</td>\n",
       "      <td>2d63adbc7e2653f14348e219816673cde3358cf6</td>\n",
       "    </tr>\n",
       "    <tr>\n",
       "      <th>486445</th>\n",
       "      <td>6388</td>\n",
       "      <td>Solar8000/VENT_PPLAT</td>\n",
       "      <td>6f6604255858ddc8f6a01b9f4774b0d43105f6da</td>\n",
       "    </tr>\n",
       "    <tr>\n",
       "      <th>486446</th>\n",
       "      <td>6388</td>\n",
       "      <td>Solar8000/VENT_RR</td>\n",
       "      <td>f34f3fae7fd963355c1c7060e1e876d20fa87536</td>\n",
       "    </tr>\n",
       "    <tr>\n",
       "      <th>486447</th>\n",
       "      <td>6388</td>\n",
       "      <td>Solar8000/VENT_SET_TV</td>\n",
       "      <td>4a4a55b8aebf9c76a4a76f62a7c1ec6fcb80e618</td>\n",
       "    </tr>\n",
       "    <tr>\n",
       "      <th>486448</th>\n",
       "      <td>6388</td>\n",
       "      <td>Solar8000/VENT_TV</td>\n",
       "      <td>77453bd3c4bf24ce13e577781a51929281f3b7f2</td>\n",
       "    </tr>\n",
       "  </tbody>\n",
       "</table>\n",
       "<p>486449 rows × 3 columns</p>\n",
       "</div>"
      ],
      "text/plain": [
       "        caseid                  tname  \\\n",
       "0            1                BIS/BIS   \n",
       "1            1           BIS/EEG1_WAV   \n",
       "2            1           BIS/EEG2_WAV   \n",
       "3            1                BIS/EMG   \n",
       "4            1                BIS/SEF   \n",
       "...        ...                    ...   \n",
       "486444    6388     Solar8000/VENT_PIP   \n",
       "486445    6388   Solar8000/VENT_PPLAT   \n",
       "486446    6388      Solar8000/VENT_RR   \n",
       "486447    6388  Solar8000/VENT_SET_TV   \n",
       "486448    6388      Solar8000/VENT_TV   \n",
       "\n",
       "                                             tid  \n",
       "0       fd869e25ba82a66cc95b38ed47110bf4f14bb368  \n",
       "1       0aa685df768489a18a5e9f53af0d83bf60890c73  \n",
       "2       ad13b2c39b19193c8ae4a2de4f8315f18d61a57e  \n",
       "3       2525603efe18d982764dbca457affe7a45e766a9  \n",
       "4       1c91aec859304840dec75acf4a35da78be0e8ef0  \n",
       "...                                          ...  \n",
       "486444  2d63adbc7e2653f14348e219816673cde3358cf6  \n",
       "486445  6f6604255858ddc8f6a01b9f4774b0d43105f6da  \n",
       "486446  f34f3fae7fd963355c1c7060e1e876d20fa87536  \n",
       "486447  4a4a55b8aebf9c76a4a76f62a7c1ec6fcb80e618  \n",
       "486448  77453bd3c4bf24ce13e577781a51929281f3b7f2  \n",
       "\n",
       "[486449 rows x 3 columns]"
      ]
     },
     "execution_count": 3,
     "metadata": {},
     "output_type": "execute_result"
    }
   ],
   "source": [
    "df_trks"
   ]
  },
  {
   "cell_type": "code",
   "execution_count": 35,
   "metadata": {},
   "outputs": [
    {
     "data": {
      "text/plain": [
       "array(['Colorectal', 'Stomach', 'Biliary/Pancreas', 'Vascular',\n",
       "       'Major resection', 'Breast', 'Minor resection', 'Transplantation',\n",
       "       'Hepatic', 'Thyroid', 'Others'], dtype=object)"
      ]
     },
     "execution_count": 35,
     "metadata": {},
     "output_type": "execute_result"
    }
   ],
   "source": [
    "df_cases['optype'].unique()"
   ]
  },
  {
   "cell_type": "markdown",
   "metadata": {},
   "source": [
    "手术类型：\n",
    "1. colorectal: 结肠直肠的\n",
    "2. stomach： 胃\n",
    "3. biliary/pancreas: 胆、胰腺\n",
    "4. vascular： 血管的\n",
    "5. major resection：大切除\n",
    "6. breast：胸部\n",
    "7. minor resection： 小切除\n",
    "8. transplantation： 器官移植\n",
    "9. hepatic： 肝\n",
    "10. thyroid: 甲状腺\n",
    "11. others： 其他"
   ]
  },
  {
   "cell_type": "code",
   "execution_count": 42,
   "metadata": {},
   "outputs": [
    {
     "data": {
      "text/plain": [
       "array(['Aneurysmal repair', 'Aortorenal bypass', 'Ligation and stripping',\n",
       "       'Arteriovenous fistula', 'Endarterectomy',\n",
       "       'Removal of continuous ambulatory peritoneal dialysis catheter',\n",
       "       'Embolectomy', 'Removal of complicated graft', 'Aortoiliac bypass',\n",
       "       'Endovascular aneurysmal repair', 'Nephrectomy',\n",
       "       'Percutaneous biopsy', 'Femoro-popliteal bypass',\n",
       "       'Closure of arteriovenous fistula', 'Vascular bypass',\n",
       "       'Arteriovenous fistula thrombectomy',\n",
       "       'Resection of popliteal artery', 'Removal of permanent catheter',\n",
       "       'Removal of Hickman catheter', 'Revision of arteriovenous fistula',\n",
       "       'Resection of inferior vena cava', 'Vascular repair',\n",
       "       'Ilioiliac bypass', 'Intra-abdominal arterial bypass graft',\n",
       "       'Arteriovenous graft', 'Bleeding control', 'Femoro-femoral bypass',\n",
       "       'Vessel graft', 'Insertion of permanent catheter',\n",
       "       'Transposition of basilic vein for arteriovenous fistula',\n",
       "       'Aortofemoral bypass', 'Resection of lower limb artery',\n",
       "       'Incision and drainage'], dtype=object)"
      ]
     },
     "execution_count": 42,
     "metadata": {},
     "output_type": "execute_result"
    }
   ],
   "source": [
    "ind = np.array(np.where(df_cases['optype']=='Vascular'))[0,:]\n",
    "other_case = df_cases.iloc[ind,:]\n",
    "other_case['opname'].unique()"
   ]
  },
  {
   "cell_type": "code",
   "execution_count": 43,
   "metadata": {},
   "outputs": [
    {
     "data": {
      "text/plain": [
       "3283"
      ]
     },
     "execution_count": 43,
     "metadata": {},
     "output_type": "execute_result"
    }
   ],
   "source": [
    "caseid_ecg2 = list(\n",
    "    set(df_trks[df_trks['tname'] == 'SNUADC/ART']['caseid']) &\n",
    "    set(df_trks[df_trks['tname'] == 'SNUADC/PLETH']['caseid']) &\n",
    "    set(df_trks[df_trks['tname'] == 'SNUADC/ECG_II']['caseid']) & \n",
    "    set(df_cases[df_cases['icu_days'] == 0]['caseid']) &\n",
    "    set(df_cases[df_cases['death_inhosp'] == 0]['caseid']) &\n",
    "    set(df_cases[df_cases['preop_ecg'] == 'Normal Sinus Rhythm']['caseid']) \n",
    ")\n",
    "caseid_ecg5 = list(\n",
    "    set(df_trks[df_trks['tname'] == 'SNUADC/ART']['caseid']) &\n",
    "    set(df_trks[df_trks['tname'] == 'SNUADC/PLETH']['caseid']) &\n",
    "    set(df_trks[df_trks['tname'] == 'SNUADC/ECG_V5']['caseid']) &\n",
    "    set(df_cases[df_cases['icu_days'] == 0]['caseid']) &\n",
    "    set(df_cases[df_cases['death_inhosp'] == 0]['caseid']) &\n",
    "    set(df_cases[df_cases['preop_ecg'] == 'Normal Sinus Rhythm']['caseid']) \n",
    ")\n",
    "caseid_ecg2 = np.array(caseid_ecg2).reshape(-1,1)\n",
    "caseid_ecg5 = np.array(caseid_ecg5).reshape(-1,1)\n",
    "caseids = np.row_stack((caseid_ecg2,caseid_ecg5))\n",
    "len(caseids)"
   ]
  },
  {
   "cell_type": "code",
   "execution_count": 44,
   "metadata": {},
   "outputs": [
    {
     "data": {
      "text/plain": [
       "array([[   1],\n",
       "       [   3],\n",
       "       [  13],\n",
       "       ...,\n",
       "       [6127],\n",
       "       [2044],\n",
       "       [6143]])"
      ]
     },
     "execution_count": 44,
     "metadata": {},
     "output_type": "execute_result"
    }
   ],
   "source": [
    "caseids"
   ]
  },
  {
   "cell_type": "code",
   "execution_count": 60,
   "metadata": {},
   "outputs": [
    {
     "data": {
      "image/png": "[encoded data removed]",
      "text/plain": [
       "<Figure size 1440x360 with 1 Axes>"
      ]
     },
     "metadata": {
      "needs_background": "light"
     },
     "output_type": "display_data"
    },
    {
     "data": {
      "image/png": "[encoded data removed]",
      "text/plain": [
       "<Figure size 1440x360 with 1 Axes>"
      ]
     },
     "metadata": {
      "needs_background": "light"
     },
     "output_type": "display_data"
    },
    {
     "data": {
      "image/png": "[encoded data removed]",
      "text/plain": [
       "<Figure size 1440x360 with 1 Axes>"
      ]
     },
     "metadata": {
      "needs_background": "light"
     },
     "output_type": "display_data"
    }
   ],
   "source": [
    "import vitaldb\n",
    "vals = vitaldb.load_case(caseid = 1, tnames=['SNUADC/ECG_II','SNUADC/PLETH','SNUADC/ART'],interval = 1/250)\n",
    "col_ind = np.zeros((np.size(vals,0),3))\n",
    "for j in range(3):\n",
    "    col = vals[:,j]\n",
    "    for i in range(np.size(vals,0)):\n",
    "        if np.isnan(col[i]):\n",
    "            col_ind[i,j] = 0\n",
    "        else:\n",
    "            col_ind[i,j] = 1\n",
    "ind = np.prod(col_ind,axis=1)\n",
    "ind_keep = np.array(np.where(ind==1))[0,:]\n",
    "vals = vals[ind_keep,:]\n",
    "import matplotlib.pyplot as plt\n",
    "plt.figure(figsize=(20, 5))\n",
    "plt.plot(vals[:, 0], color='r')\n",
    "plt.show()\n",
    "\n",
    "plt.figure(figsize=(20, 5))\n",
    "plt.plot(vals[:, 1], 'r')\n",
    "plt.show()\n",
    "\n",
    "plt.figure(figsize=(20, 5))\n",
    "plt.plot(vals[:, 2], 'r')\n",
    "plt.show()\n",
    "\n"
   ]
  },
  {
   "cell_type": "code",
   "execution_count": 61,
   "metadata": {},
   "outputs": [],
   "source": [
    "df = pd.DataFrame(data=vals,index=None,columns=None)"
   ]
  },
  {
   "cell_type": "code",
   "execution_count": 63,
   "metadata": {},
   "outputs": [],
   "source": [
    "compression_opts = dict(method='zip',\n",
    "                        archive_name='2.csv')  \n",
    "df.to_csv(r'D:\\out.zip', index=False,\n",
    "          compression=compression_opts)  "
   ]
  },
  {
   "cell_type": "code",
   "execution_count": 52,
   "metadata": {},
   "outputs": [],
   "source": [
    "vals = vals[~np.isnan(vals)]"
   ]
  },
  {
   "cell_type": "code",
   "execution_count": 53,
   "metadata": {},
   "outputs": [
    {
     "data": {
      "text/plain": [
       "(8655195,)"
      ]
     },
     "execution_count": 53,
     "metadata": {},
     "output_type": "execute_result"
    }
   ],
   "source": [
    "np.shape(vals)"
   ]
  },
  {
   "cell_type": "code",
   "execution_count": 59,
   "metadata": {},
   "outputs": [
    {
     "data": {
      "text/plain": [
       "array([0., 0., 0., ..., 1., 1., 0.])"
      ]
     },
     "execution_count": 59,
     "metadata": {},
     "output_type": "execute_result"
    }
   ],
   "source": [
    "np.prod(col_ind,axis=1)"
   ]
  },
  {
   "cell_type": "code",
   "execution_count": null,
   "metadata": {},
   "outputs": [],
   "source": []
  }
 ],
 "metadata": {
  "kernelspec": {
   "display_name": "Python 3",
   "language": "python",
   "name": "python3"
  },
  "language_info": {
   "codemirror_mode": {
    "name": "ipython",
    "version": 3
   },
   "file_extension": ".py",
   "mimetype": "text/x-python",
   "name": "python",
   "nbconvert_exporter": "python",
   "pygments_lexer": "ipython3",
   "version": "3.8.3"
  }
 },
 "nbformat": 4,
 "nbformat_minor": 4
}
